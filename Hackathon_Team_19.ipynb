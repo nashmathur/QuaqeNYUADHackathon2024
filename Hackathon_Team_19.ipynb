{
  "nbformat": 4,
  "nbformat_minor": 0,
  "metadata": {
    "colab": {
      "provenance": []
    },
    "kernelspec": {
      "name": "python3",
      "display_name": "Python 3"
    },
    "language_info": {
      "name": "python"
    }
  },
  "cells": [
    {
      "cell_type": "code",
      "execution_count": 1,
      "metadata": {
        "id": "u9jxwF7bg0hv"
      },
      "outputs": [],
      "source": [
        "import pandas as pd"
      ]
    },
    {
      "cell_type": "code",
      "source": [
        "#Ligar ao Google Drive\n",
        "from google.colab import drive\n",
        "\n",
        "\n",
        "#Ligação ao Google Drive\n",
        "drive.mount('/content/drive/')"
      ],
      "metadata": {
        "colab": {
          "base_uri": "https://localhost:8080/"
        },
        "id": "c3YPHlH8g4ky",
        "outputId": "cf010d16-3d99-4da8-cecd-c328e03150e6"
      },
      "execution_count": 2,
      "outputs": [
        {
          "output_type": "stream",
          "name": "stdout",
          "text": [
            "Mounted at /content/drive/\n"
          ]
        }
      ]
    },
    {
      "cell_type": "code",
      "source": [
        "data_world_Initial = pd.read_csv('/content/drive/MyDrive/Hackathon NYUAD 2024/Significant_Earthquakes.csv')\n",
        "data_TurkeySiria_Initial = pd.read_csv('/content/drive/MyDrive/Hackathon NYUAD 2024/all_month.csv')\n",
        "data_UAE_Initial = pd.read_csv('/content/drive/MyDrive/Hackathon NYUAD 2024/UAE_Version2.csv')"
      ],
      "metadata": {
        "id": "BI7b89kOg7Gp"
      },
      "execution_count": 50,
      "outputs": []
    },
    {
      "cell_type": "code",
      "source": [
        "data_world = data_world_Initial\n",
        "data_TurkeySiria = data_TurkeySiria_Initial\n",
        "data_UAE = data_UAE_Initial"
      ],
      "metadata": {
        "id": "GBjd5pHig8kh"
      },
      "execution_count": 67,
      "outputs": []
    },
    {
      "cell_type": "code",
      "source": [
        "#Drop Collumns that won't be necessary\n",
        "data_world = data_world.drop(columns=['magType', 'nst', 'gap', 'dmin', 'rms', 'net', 'id', 'updated', 'place', 'horizontalError', 'depthError','magError', 'magNst', 'locationSource', 'magSource'], axis=1)\n",
        "data_TurkeySiria = data_TurkeySiria.drop(columns=['magType', 'nst', 'gap', 'dmin', 'rms', 'net', 'id', 'updated', 'place', 'horizontalError', 'depthError','magError', 'magNst', 'locationSource', 'magSource'], axis=1)\n",
        "data_UAE = data_UAE.drop(columns=['magType', 'nst', 'gap', 'dmin', 'rms', 'net', 'id', 'updated', 'place', 'horizontalError', 'depthError','magError', 'magNst', 'locationSource', 'magSource'], axis=1)"
      ],
      "metadata": {
        "id": "ikpEedZlg_67"
      },
      "execution_count": 68,
      "outputs": []
    },
    {
      "cell_type": "code",
      "source": [
        "#Filter to only earthquake cases\n",
        "for k in range(len(data_world)-1):\n",
        "  if (data_world['type'][k] != 'earthquake'):\n",
        "    data_world = data_world.drop(k)\n",
        "\n",
        "for k in range(len(data_TurkeySiria)-1):\n",
        "  if (data_TurkeySiria['type'][k] != 'earthquake'):\n",
        "    data_TurkeySiria = data_TurkeySiria.drop(k)\n",
        "\n",
        "for k in range(len(data_UAE)-1):\n",
        "  if (data_UAE['type'][k] != 'earthquake'):\n",
        "    data_UAE = data_UAE.drop(k)"
      ],
      "metadata": {
        "id": "3OYd5gVChBZS"
      },
      "execution_count": 69,
      "outputs": []
    },
    {
      "cell_type": "code",
      "source": [
        "#Drop null cases in 'depth' type\n",
        "data_world.dropna(subset=['depth'], inplace=True)\n",
        "data_TurkeySiria.dropna(subset=['depth'], inplace=True)\n",
        "data_UAE.dropna(subset=['depth'], inplace=True)"
      ],
      "metadata": {
        "id": "_fTyBsb9hRih"
      },
      "execution_count": 72,
      "outputs": []
    }
  ]
}